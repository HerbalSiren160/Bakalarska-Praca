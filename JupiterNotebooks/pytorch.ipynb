{
 "metadata": {
  "language_info": {
   "codemirror_mode": {
    "name": "ipython",
    "version": 3
   },
   "file_extension": ".py",
   "mimetype": "text/x-python",
   "name": "python",
   "nbconvert_exporter": "python",
   "pygments_lexer": "ipython3",
   "version": "3.8.5-final"
  },
  "orig_nbformat": 2,
  "kernelspec": {
   "name": "python385jvsc74a57bd0fc249843422410ac390b7d274f2ed9103ae8e32bbab34c2e2e3be35fd29426a5",
   "display_name": "Python 3.8.5 64-bit (conda)"
  }
 },
 "nbformat": 4,
 "nbformat_minor": 2,
 "cells": [
  {
   "source": [
    "Based on this vid: https://www.youtube.com/watch?v=15zlr2vJqKc"
   ],
   "cell_type": "markdown",
   "metadata": {}
  },
  {
   "source": [
    "Models initialization"
   ],
   "cell_type": "markdown",
   "metadata": {}
  },
  {
   "cell_type": "code",
   "execution_count": 105,
   "metadata": {},
   "outputs": [],
   "source": [
    "import torch\n",
    "import torchvision.models as models"
   ]
  },
  {
   "cell_type": "code",
   "execution_count": 106,
   "metadata": {},
   "outputs": [],
   "source": [
    "modelDict = {\n",
    "    'VGG': models.vgg19_bn(pretrained=True),\n",
    "    'AlexNet': models.alexnet(pretrained=True),\n",
    "    'ResNet': models.resnet152(pretrained=True),\n",
    "    'GoogleNet': models.googlenet(pretrained=True),\n",
    "}"
   ]
  },
  {
   "source": [
    "Images"
   ],
   "cell_type": "markdown",
   "metadata": {}
  },
  {
   "cell_type": "code",
   "execution_count": 107,
   "metadata": {},
   "outputs": [],
   "source": [
    "from PIL import Image\n",
    "from skimage import io, transform\n",
    "import matplotlib.pyplot as plt\n",
    "\n",
    "images = {\n",
    "    'Cat': Image.open('../Images/cat.jfif'),\n",
    "    'Bear': Image.open('../Images/bear_fish.jfif'),\n",
    "    'Skunk': Image.open('../Images/skunk.jfif'),\n",
    "    'Elephant': Image.open('../Images/slonind.jfif'),\n",
    "    'Dugong': Image.open('../Images/mkrava.jfif'),\n",
    "    'Agama': Image.open('../Images/agama.jfif'),\n",
    "    'Ambulance': Image.open('../Images/ambulance.jfif')\n",
    "}"
   ]
  },
  {
   "source": [
    "Image transformations"
   ],
   "cell_type": "markdown",
   "metadata": {}
  },
  {
   "cell_type": "code",
   "execution_count": 108,
   "metadata": {},
   "outputs": [],
   "source": [
    "from torchvision import transforms\n",
    "transform = transforms.Compose([\n",
    "    transforms.Resize(256),             # Resizing image to 256x256 \n",
    "    transforms.CenterCrop(224),         # Crop the image to 224x224 pixels from center\n",
    "    transforms.ToTensor(),              # Convert image to PyTorch Tensor data type\n",
    "    transforms.Normalize(               # Normalizing image\n",
    "        mean=[0.485, 0.456, 0.406],     # Mean and std same as used on training data\n",
    "        std=[0.229, 0.224, 0.225]\n",
    "    )\n",
    "])"
   ]
  },
  {
   "source": [
    "Class names"
   ],
   "cell_type": "markdown",
   "metadata": {}
  },
  {
   "cell_type": "code",
   "execution_count": 109,
   "metadata": {},
   "outputs": [],
   "source": [
    "with open('imagenet_classes.txt') as f:\n",
    "    classes = [line.split(\", \")[1].strip() for line in f.readlines()]"
   ]
  },
  {
   "source": [
    "Testing NNs and creating .csv file with result"
   ],
   "cell_type": "markdown",
   "metadata": {}
  },
  {
   "cell_type": "code",
   "execution_count": 110,
   "metadata": {},
   "outputs": [
    {
     "output_type": "execute_result",
     "data": {
      "text/plain": [
       "36"
      ]
     },
     "metadata": {},
     "execution_count": 110
    }
   ],
   "source": [
    "import csv\n",
    "\n",
    "result = open('result.csv', 'w')\n",
    "filewriter = csv.writer(result, delimiter=',', quotechar='\"', quoting=csv.QUOTE_MINIMAL)\n",
    "filewriter.writerow(['Image', 'VGG', 'AlexNet', 'ResNet', 'GoogleNet'])"
   ]
  },
  {
   "cell_type": "code",
   "execution_count": 111,
   "metadata": {
    "tags": []
   },
   "outputs": [
    {
     "output_type": "execute_result",
     "data": {
      "text/plain": [
       "'DONE'"
      ]
     },
     "metadata": {},
     "execution_count": 111
    }
   ],
   "source": [
    "for img in images:\n",
    "    row = []\n",
    "    row.append(img)\n",
    "    img_t = transform(images[img])\n",
    "    batch_t = torch.unsqueeze(img_t, 0)\n",
    "    for model in modelDict:\n",
    "        modelDict[model].eval()\n",
    "        out = modelDict[model](batch_t)\n",
    "        _, indices = torch.sort(out, descending=True)\n",
    "        percentage = torch.nn.functional.softmax(out, dim=1)[0] * 100\n",
    "        found = 0\n",
    "        for idx in indices[0][:5]:\n",
    "            if classes[idx].lower().find(img.lower()) >= 0:\n",
    "                found = percentage[idx].item()\n",
    "                break\n",
    "        row.append(found)\n",
    "    filewriter.writerow(row)\n",
    "\n",
    "result.close()\n",
    "\"DONE\""
   ]
  },
  {
   "source": [
    "Visualize result"
   ],
   "cell_type": "markdown",
   "metadata": {}
  },
  {
   "cell_type": "code",
   "execution_count": 112,
   "metadata": {},
   "outputs": [],
   "source": [
    "import pandas as pd\n",
    "\n",
    "df = pd.read_csv('result.csv')"
   ]
  },
  {
   "cell_type": "code",
   "execution_count": 113,
   "metadata": {},
   "outputs": [
    {
     "output_type": "stream",
     "name": "stdout",
     "text": [
      "Using matplotlib backend: Qt5Agg\n"
     ]
    }
   ],
   "source": [
    "%matplotlib"
   ]
  },
  {
   "cell_type": "code",
   "execution_count": 115,
   "metadata": {},
   "outputs": [
    {
     "output_type": "execute_result",
     "data": {
      "text/plain": [
       "<AxesSubplot:xlabel='Image'>"
      ]
     },
     "metadata": {},
     "execution_count": 115
    }
   ],
   "source": [
    "df.plot(x=\"Image\", y=[\"VGG\", \"AlexNet\", \"ResNet\", \"GoogleNet\"], kind=\"bar\")"
   ]
  }
 ]
}