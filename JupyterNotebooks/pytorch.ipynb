{
 "cells": [
  {
   "cell_type": "markdown",
   "metadata": {},
   "source": [
    "### Based on this vid: https://www.youtube.com/watch?v=15zlr2vJqKc"
   ]
  },
  {
   "cell_type": "markdown",
   "metadata": {},
   "source": [
    "## Models initialization"
   ]
  },
  {
   "cell_type": "code",
   "execution_count": 1,
   "metadata": {},
   "outputs": [],
   "source": [
    "import torch\n",
    "import torchvision.models as models"
   ]
  },
  {
   "cell_type": "code",
   "execution_count": 2,
   "metadata": {},
   "outputs": [],
   "source": [
    "modelDict = {\n",
    "      'AlexNet':    models.alexnet(pretrained=True),\n",
    "          'VGG':    models.vgg19_bn(pretrained=True),\n",
    "    'GoogleNet':    models.googlenet(pretrained=True),\n",
    "       'ResNet':    models.resnet152(pretrained=True),\n",
    "      'ResNeXt':    models.resnext101_32x8d(pretrained=True)\n",
    "}"
   ]
  },
  {
   "cell_type": "markdown",
   "metadata": {},
   "source": [
    "## Images"
   ]
  },
  {
   "cell_type": "code",
   "execution_count": 3,
   "metadata": {},
   "outputs": [],
   "source": [
    "import matplotlib.pyplot as plt\n",
    "import math\n",
    "\n",
    "def display_images(images, columns=5, width=21, row_height=10, font_size=20):\n",
    "    rows = math.ceil(len(images) / columns)\n",
    "    plt.figure(figsize=(width, row_height * rows))\n",
    "\n",
    "    for i, img in enumerate(images):\n",
    "        plt.subplot(int(len(images) / columns + 1), columns, i + 1)\n",
    "        plt.imshow(images[img])\n",
    "        plt.title(img, fontsize=font_size)"
   ]
  },
  {
   "cell_type": "code",
   "execution_count": 4,
   "metadata": {},
   "outputs": [
    {
     "ename": "FileNotFoundError",
     "evalue": "[Errno 2] No such file or directory: '..\\\\Images\\\\Myimages\\\\chain1.jpg'",
     "output_type": "error",
     "traceback": [
      "\u001b[1;31m---------------------------------------------------------------------------\u001b[0m",
      "\u001b[1;31mFileNotFoundError\u001b[0m                         Traceback (most recent call last)",
      "\u001b[1;32m<ipython-input-4-058bbc7aa8eb>\u001b[0m in \u001b[0;36m<module>\u001b[1;34m\u001b[0m\n\u001b[0;32m      5\u001b[0m \u001b[1;33m\u001b[0m\u001b[0m\n\u001b[0;32m      6\u001b[0m images = {\n\u001b[1;32m----> 7\u001b[1;33m     \u001b[1;34m'Chain'\u001b[0m\u001b[1;33m:\u001b[0m \u001b[0mImage\u001b[0m\u001b[1;33m.\u001b[0m\u001b[0mopen\u001b[0m\u001b[1;33m(\u001b[0m\u001b[0mos\u001b[0m\u001b[1;33m.\u001b[0m\u001b[0mpath\u001b[0m\u001b[1;33m.\u001b[0m\u001b[0mjoin\u001b[0m\u001b[1;33m(\u001b[0m\u001b[0mdirectory\u001b[0m\u001b[1;33m,\u001b[0m \u001b[1;34m'chain1.jpg'\u001b[0m\u001b[1;33m)\u001b[0m\u001b[1;33m)\u001b[0m\u001b[1;33m,\u001b[0m\u001b[1;33m\u001b[0m\u001b[1;33m\u001b[0m\u001b[0m\n\u001b[0m\u001b[0;32m      8\u001b[0m     \u001b[1;34m'Peacock'\u001b[0m\u001b[1;33m:\u001b[0m \u001b[0mImage\u001b[0m\u001b[1;33m.\u001b[0m\u001b[0mopen\u001b[0m\u001b[1;33m(\u001b[0m\u001b[0mos\u001b[0m\u001b[1;33m.\u001b[0m\u001b[0mpath\u001b[0m\u001b[1;33m.\u001b[0m\u001b[0mjoin\u001b[0m\u001b[1;33m(\u001b[0m\u001b[0mdirectory\u001b[0m\u001b[1;33m,\u001b[0m \u001b[1;34m'peacock.jpg'\u001b[0m\u001b[1;33m)\u001b[0m\u001b[1;33m)\u001b[0m\u001b[1;33m\u001b[0m\u001b[1;33m\u001b[0m\u001b[0m\n\u001b[0;32m      9\u001b[0m }\n",
      "\u001b[1;32m~\\anaconda3\\lib\\site-packages\\PIL\\Image.py\u001b[0m in \u001b[0;36mopen\u001b[1;34m(fp, mode, formats)\u001b[0m\n\u001b[0;32m   2889\u001b[0m \u001b[1;33m\u001b[0m\u001b[0m\n\u001b[0;32m   2890\u001b[0m     \u001b[1;32mif\u001b[0m \u001b[0mfilename\u001b[0m\u001b[1;33m:\u001b[0m\u001b[1;33m\u001b[0m\u001b[1;33m\u001b[0m\u001b[0m\n\u001b[1;32m-> 2891\u001b[1;33m         \u001b[0mfp\u001b[0m \u001b[1;33m=\u001b[0m \u001b[0mbuiltins\u001b[0m\u001b[1;33m.\u001b[0m\u001b[0mopen\u001b[0m\u001b[1;33m(\u001b[0m\u001b[0mfilename\u001b[0m\u001b[1;33m,\u001b[0m \u001b[1;34m\"rb\"\u001b[0m\u001b[1;33m)\u001b[0m\u001b[1;33m\u001b[0m\u001b[1;33m\u001b[0m\u001b[0m\n\u001b[0m\u001b[0;32m   2892\u001b[0m         \u001b[0mexclusive_fp\u001b[0m \u001b[1;33m=\u001b[0m \u001b[1;32mTrue\u001b[0m\u001b[1;33m\u001b[0m\u001b[1;33m\u001b[0m\u001b[0m\n\u001b[0;32m   2893\u001b[0m \u001b[1;33m\u001b[0m\u001b[0m\n",
      "\u001b[1;31mFileNotFoundError\u001b[0m: [Errno 2] No such file or directory: '..\\\\Images\\\\Myimages\\\\chain1.jpg'"
     ]
    }
   ],
   "source": [
    "from PIL import Image\n",
    "import os\n",
    "\n",
    "directory = os.path.join('..', 'Images', 'Myimages')\n",
    "\n",
    "images = {\n",
    "    'Chain': Image.open(os.path.join(directory, 'chain1.jpg')),\n",
    "    'Peacock': Image.open(os.path.join(directory, 'peacock.jpg'))\n",
    "}\n",
    "\n",
    "for img in images:\n",
    "    images[img] = images[img].resize((256,256))\n",
    "display_images(images)"
   ]
  },
  {
   "cell_type": "markdown",
   "metadata": {},
   "source": [
    "## Image transformations"
   ]
  },
  {
   "cell_type": "code",
   "execution_count": null,
   "metadata": {},
   "outputs": [],
   "source": [
    "from torchvision import transforms\n",
    "transform = transforms.Compose([\n",
    "    transforms.CenterCrop(227),         # Crop the image to 227x227 pixels from center\n",
    "    transforms.ToTensor(),              # Convert image to PyTorch Tensor data type\n",
    "    transforms.Normalize(               # Normalizing image\n",
    "        mean=[0.485, 0.456, 0.406],     # Mean and std same as used on training data\n",
    "        std=[0.229, 0.224, 0.225]\n",
    "    )\n",
    "])"
   ]
  },
  {
   "cell_type": "markdown",
   "metadata": {},
   "source": [
    "## Class names"
   ]
  },
  {
   "cell_type": "code",
   "execution_count": null,
   "metadata": {},
   "outputs": [],
   "source": [
    "with open('imagenet_classes.txt') as f:\n",
    "    classes = [line.split(\", \")[1].strip() for line in f.readlines()]"
   ]
  },
  {
   "cell_type": "markdown",
   "metadata": {},
   "source": [
    "## Testing NNs and creating .csv file with result"
   ]
  },
  {
   "cell_type": "code",
   "execution_count": null,
   "metadata": {},
   "outputs": [],
   "source": [
    "from PIL import ImageOps as imo\n",
    "from PIL import ImageFilter as imf\n",
    "\n",
    "def apply_filters(image):\n",
    "    return {\n",
    "        'Original': image,\n",
    "        'Flip': imo.flip(image),\n",
    "        #'Grayscale': skimage.color.gray2rgb(imo.grayscale(image)),\n",
    "        'Invert': imo.invert(image),\n",
    "        'GaussianBlur': image.filter(imf.GaussianBlur(4)),\n",
    "        'MinFilter': image.filter(imf.MinFilter(5))\n",
    "    }"
   ]
  },
  {
   "cell_type": "markdown",
   "metadata": {},
   "source": [
    "## Recognition and visualizing results"
   ]
  },
  {
   "cell_type": "code",
   "execution_count": null,
   "metadata": {
    "tags": []
   },
   "outputs": [],
   "source": [
    "import csv\n",
    "import pandas as pd\n",
    "import skimage\n",
    "\n",
    "for img in images:\n",
    "    # Opening or creating csv file to store results\n",
    "    filename = \"{}.csv\".format(img)\n",
    "    result = open(filename, 'w')\n",
    "    filewriter = csv.writer(result, delimiter=',', quotechar='\"', quoting=csv.QUOTE_MINIMAL)\n",
    "    filewriter.writerow(['Filter', 'AlexNet', 'VGG', 'GoogleNet', 'ResNet', 'ResNeXt'])\n",
    "\n",
    "    # Getting filterred images\n",
    "    imageset = apply_filters(images[img])\n",
    "\n",
    "    # Displaying images\n",
    "    display_images(imageset)\n",
    "\n",
    "    # Recognition and writing to file\n",
    "    for i in imageset:\n",
    "        row = []\n",
    "        row.append(i)\n",
    "        img_t = transform(imageset[i])\n",
    "        batch_t = torch.unsqueeze(img_t, 0)\n",
    "        for model in modelDict:\n",
    "            modelDict[model].eval()\n",
    "            out = modelDict[model](batch_t)\n",
    "            _, indices = torch.sort(out, descending=True)\n",
    "            percentage = torch.nn.functional.softmax(out, dim=1)[0] * 100\n",
    "            found = 0\n",
    "            for idx in indices[0][:5]:\n",
    "                if classes[idx].lower().find(img.lower()) >= 0:\n",
    "                    found = percentage[idx].item()\n",
    "                    break\n",
    "            row.append(found)\n",
    "        try:\n",
    "            filewriter.writerow(row)\n",
    "        except:\n",
    "            print(error)\n",
    "    result.close()\n",
    "\n",
    "    # Displaying result\n",
    "    df = pd.read_csv(filename)\n",
    "    df.plot(x=\"Filter\", y=['AlexNet', 'VGG', 'GoogleNet', 'ResNet', 'ResNeXt'], kind=\"bar\", fontsize=20, figsize=(21, 12), rot=0, title=(img))\n",
    "'DONE'"
   ]
  }
 ],
 "metadata": {
  "interpreter": {
   "hash": "fc249843422410ac390b7d274f2ed9103ae8e32bbab34c2e2e3be35fd29426a5"
  },
  "kernelspec": {
   "display_name": "Python 3.8.5 64-bit ('base': conda)",
   "name": "python3"
  },
  "language_info": {
   "codemirror_mode": {
    "name": "ipython",
    "version": 3
   },
   "file_extension": ".py",
   "mimetype": "text/x-python",
   "name": "python",
   "nbconvert_exporter": "python",
   "pygments_lexer": "ipython3",
   "version": "3.8.5"
  },
  "orig_nbformat": 2
 },
 "nbformat": 4,
 "nbformat_minor": 2
}
