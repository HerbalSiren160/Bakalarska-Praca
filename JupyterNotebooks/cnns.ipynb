{
 "cells": [
  {
   "cell_type": "markdown",
   "metadata": {},
   "source": [
    "## Models initialization"
   ]
  },
  {
   "cell_type": "code",
   "execution_count": null,
   "metadata": {},
   "outputs": [],
   "source": [
    "import torch\n",
    "import torchvision.models as models"
   ]
  },
  {
   "cell_type": "code",
   "execution_count": null,
   "metadata": {},
   "outputs": [],
   "source": [
    "model_dict = {\n",
    "      'AlexNet':    models.alexnet(pretrained=True),\n",
    "          'VGG':    models.vgg19_bn(pretrained=True),\n",
    "    'GoogleNet':    models.googlenet(pretrained=True),\n",
    "       'ResNet':    models.resnet152(pretrained=True),\n",
    "      'ResNeXt':    models.resnext101_32x8d(pretrained=True)\n",
    "}"
   ]
  },
  {
   "cell_type": "markdown",
   "metadata": {},
   "source": [
    "## Images"
   ]
  },
  {
   "cell_type": "code",
   "execution_count": null,
   "metadata": {},
   "outputs": [],
   "source": [
    "import matplotlib.pyplot as plt\n",
    "import math\n",
    "from PIL import Image\n",
    "import os\n",
    "\n",
    "directory = os.path.join('..', 'Images', 'Myimages')\n",
    "images = {}\n",
    "\n",
    "def display_images(images, columns=5, width=20, row_height=3.5, font_size=20, title=\"\"):\n",
    "    rows = math.ceil(len(images) / columns)\n",
    "    fig = plt.figure(figsize=(width, row_height * rows))\n",
    "    fig.suptitle(title, fontsize=font_size, x=0.14)\n",
    "\n",
    "    for i, img in enumerate(images):\n",
    "        plt.subplot(len(images) // columns + 1, columns, i + 1)\n",
    "        plt.imshow(img)\n",
    "        plt.axis(\"off\")\n",
    "\n",
    "def display_all_images():\n",
    "    global images\n",
    "    for key in images:\n",
    "        display_images(images[key], title=key)\n",
    "\n",
    "def resize_all_images():\n",
    "    global images\n",
    "    for key in images:\n",
    "        for i, img in enumerate(images[key]):\n",
    "            images[key][i] = img.resize((256,256))\n",
    "\n",
    "def get_all_images():\n",
    "    global directory, images\n",
    "    all_subdirectories = os.listdir(directory)\n",
    "    for x in all_subdirectories:\n",
    "        x_path = os.path.join(directory, x)\n",
    "        if os.path.isdir(x_path):\n",
    "            images_from_files = []\n",
    "            all_files = os.listdir(x_path)\n",
    "            for f in all_files:\n",
    "                images_from_files.append(Image.open(os.path.join(x_path, f)))\n",
    "            images[x] = images_from_files\n",
    "        else:\n",
    "            images[x[:-4]] = [Image.open(x_path)] # x[:-4] - key of dir is filename without .jpg postfix\n",
    "    resize_all_images()\n",
    "\n"
   ]
  },
  {
   "cell_type": "code",
   "execution_count": null,
   "metadata": {},
   "outputs": [],
   "source": [
    "get_all_images()"
   ]
  },
  {
   "cell_type": "markdown",
   "metadata": {},
   "source": [
    "## Image transformations for models inputs"
   ]
  },
  {
   "cell_type": "code",
   "execution_count": null,
   "metadata": {},
   "outputs": [],
   "source": [
    "from torchvision import transforms\n",
    "\n",
    "transform = transforms.Compose([\n",
    "    transforms.CenterCrop(227),         # Crop the image to 227x227 pixels from center\n",
    "    transforms.ToTensor(),              # Convert image to PyTorch Tensor data type\n",
    "    transforms.Normalize(               # Normalizing image\n",
    "        mean=[0.485, 0.456, 0.406],     # Mean and std same as used on training data\n",
    "        std=[0.229, 0.224, 0.225]\n",
    "    )\n",
    "])"
   ]
  },
  {
   "cell_type": "markdown",
   "metadata": {},
   "source": [
    "## Getting class names from file"
   ]
  },
  {
   "cell_type": "code",
   "execution_count": null,
   "metadata": {},
   "outputs": [],
   "source": [
    "with open('imagenet_classes.txt') as f:\n",
    "    classes = [line.split(\", \")[1].strip() for line in f.readlines()]"
   ]
  },
  {
   "cell_type": "markdown",
   "metadata": {},
   "source": [
    "## Recognition and visualizing results"
   ]
  },
  {
   "cell_type": "code",
   "execution_count": 57,
   "metadata": {},
   "outputs": [
    {
     "data": {
      "text/plain": [
       "'DONE'"
      ]
     },
     "execution_count": 57,
     "metadata": {},
     "output_type": "execute_result"
    }
   ],
   "source": [
    "with open('results.txt', 'w') as f:\n",
    "    for img in images:\n",
    "        text = img + \":\\n\"\n",
    "        imageset = images[img]\n",
    "\n",
    "        # Recognition and writing to file\n",
    "        for i in imageset:\n",
    "            img_t = transform(i)\n",
    "            batch_t = torch.unsqueeze(img_t, 0)\n",
    "            for model in model_dict:\n",
    "                text += \"\\t\" + model + \":\\n\"\n",
    "                model_dict[model].eval()\n",
    "                out = model_dict[model](batch_t)\n",
    "                _, indices = torch.sort(out, descending=True)\n",
    "                percentage = torch.nn.functional.softmax(out, dim=1)[0] * 100\n",
    "                for idx in indices[0][:5]:\n",
    "                    text += \"\\t\\t\" + classes[idx] + \": \" + str(percentage[idx].item()) + \"\\n\"\n",
    "            text += \"\\n\"\n",
    "        f.writelines(text)\n",
    "        f.write(\"\\n\")\n",
    "'DONE'"
   ]
  }
 ],
 "metadata": {
  "interpreter": {
   "hash": "fc249843422410ac390b7d274f2ed9103ae8e32bbab34c2e2e3be35fd29426a5"
  },
  "kernelspec": {
   "display_name": "Python 3.8.5 64-bit ('base': conda)",
   "name": "python3"
  },
  "language_info": {
   "codemirror_mode": {
    "name": "ipython",
    "version": 3
   },
   "file_extension": ".py",
   "mimetype": "text/x-python",
   "name": "python",
   "nbconvert_exporter": "python",
   "pygments_lexer": "ipython3",
   "version": "3.8.5"
  },
  "orig_nbformat": 4
 },
 "nbformat": 4,
 "nbformat_minor": 2
}
